{
 "cells": [
  {
   "cell_type": "markdown",
   "metadata": {},
   "source": [
    "### Quick Find"
   ]
  },
  {
   "cell_type": "code",
   "execution_count": 38,
   "metadata": {},
   "outputs": [
    {
     "name": "stdout",
     "output_type": "stream",
     "text": [
      "[]\n",
      "[0, 1, 2, 3, 4]\n",
      "False\n",
      "[1, 1, 2, 3, 4]\n",
      "[1, 1, 4, 3, 4]\n"
     ]
    }
   ],
   "source": [
    "class QuickFindUF:\n",
    "    def __init__(self):\n",
    "        self.ids = []\n",
    "    \n",
    "    def getRefIds(self):\n",
    "        return self.ids\n",
    "    \n",
    "    def formReferenceIds(self, num):\n",
    "        for i in range(num):\n",
    "            self.ids.append(i)\n",
    "            \n",
    "    \n",
    "    def connected(self, a, b):\n",
    "        return self.ids[a] == self.ids[b]\n",
    "    \n",
    "    def union(self, p, q):\n",
    "        pid = self.ids[p]\n",
    "        qid = self.ids[q]\n",
    "        for i in range(len(self.ids)):\n",
    "            if(self.ids[i] == pid):\n",
    "                self.ids[i] = qid\n",
    "\n",
    "\n",
    "qf = QuickFindUF()\n",
    "print(qf.getRefIds())\n",
    "qf.formReferenceIds(5)\n",
    "print(qf.getRefIds())\n",
    "print(qf.connected(3, 4))\n",
    "qf.union(0, 1)\n",
    "print(qf.getRefIds())\n",
    "qf.union(2, 4)\n",
    "print(qf.getRefIds())"
   ]
  }
 ],
 "metadata": {
  "kernelspec": {
   "display_name": "Python 3",
   "language": "python",
   "name": "python3"
  },
  "language_info": {
   "codemirror_mode": {
    "name": "ipython",
    "version": 3
   },
   "file_extension": ".py",
   "mimetype": "text/x-python",
   "name": "python",
   "nbconvert_exporter": "python",
   "pygments_lexer": "ipython3",
   "version": "3.7.4"
  }
 },
 "nbformat": 4,
 "nbformat_minor": 2
}
