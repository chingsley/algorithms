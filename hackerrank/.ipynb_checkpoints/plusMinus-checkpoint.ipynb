{
 "cells": [
  {
   "cell_type": "code",
   "execution_count": 41,
   "metadata": {},
   "outputs": [
    {
     "name": "stdout",
     "output_type": "stream",
     "text": [
      "0.5\n",
      "\n",
      "0.500000\n",
      "0.3333333333333333\n",
      "0.333333\n",
      "0.16666666666666666\n",
      "0.166667\n"
     ]
    }
   ],
   "source": [
    "# Complete the plusMinus function below.\n",
    "from decimal import getcontext, Decimal\n",
    "\n",
    "def plusMinus(arr):\n",
    "    positives = []\n",
    "    negatives = []\n",
    "    zeros = []\n",
    "    for value in arr:\n",
    "        if (value > 0):\n",
    "            positives.append(value)\n",
    "        elif (value < 0):\n",
    "            negatives.append(value)\n",
    "        else:\n",
    "            zeros.append(value)\n",
    "    \n",
    "    print(len(positives)/len(arr))\n",
    "    print('{0:.6f}'.format(round(len(positives)/len(arr), 6)))\n",
    "    print(len(negatives)/len(arr))\n",
    "    print('{0:.6f}'.format(len(negatives)/len(arr)))\n",
    "    print(len(zeros)/len(arr))\n",
    "    print('{0:.6f}'.format(len(zeros)/len(arr)))\n",
    "\n",
    "    \n",
    "plusMinus([-4, 3, -9, 0, 4, 1 ])\n"
   ]
  },
  {
   "cell_type": "code",
   "execution_count": 36,
   "metadata": {},
   "outputs": [
    {
     "name": "stdout",
     "output_type": "stream",
     "text": [
      "2.28571\n"
     ]
    }
   ],
   "source": [
    "from decimal import getcontext, Decimal\n",
    "\n",
    "# Set the precision.\n",
    "getcontext().prec = 6\n",
    "\n",
    "# Execute 1/7, however cast both numbers as decimals\n",
    "output = Decimal(16.0)/Decimal(7)\n",
    "\n",
    "# Your output will return w/ 6 decimal places, which\n",
    "# we set above.\n",
    "print(output)"
   ]
  }
 ],
 "metadata": {
  "kernelspec": {
   "display_name": "Python 3",
   "language": "python",
   "name": "python3"
  },
  "language_info": {
   "codemirror_mode": {
    "name": "ipython",
    "version": 3
   },
   "file_extension": ".py",
   "mimetype": "text/x-python",
   "name": "python",
   "nbconvert_exporter": "python",
   "pygments_lexer": "ipython3",
   "version": "3.7.4"
  }
 },
 "nbformat": 4,
 "nbformat_minor": 2
}
