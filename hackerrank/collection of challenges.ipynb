{
 "cells": [
  {
   "cell_type": "markdown",
   "metadata": {},
   "source": [
    "### Right angle staircase"
   ]
  },
  {
   "cell_type": "code",
   "execution_count": 29,
   "metadata": {},
   "outputs": [
    {
     "name": "stdout",
     "output_type": "stream",
     "text": [
      "     #\n",
      "    ##\n",
      "   ###\n",
      "  ####\n",
      " #####\n",
      "######\n"
     ]
    }
   ],
   "source": [
    "def staircase(n):\n",
    "    for i in range(n):\n",
    "        print(' '*(n-1-i)+'#'*(i+1))\n",
    "        \n",
    "\n",
    "staircase(6)"
   ]
  },
  {
   "cell_type": "markdown",
   "metadata": {},
   "source": [
    "### Min-Max Sum\n",
    "Given five positive integers, find the minimum and maximum values that can be calculated by summing exactly four of the five integers. Then print the respective minimum and maximum values as a single line of two space-separated long integers."
   ]
  },
  {
   "cell_type": "code",
   "execution_count": 1,
   "metadata": {},
   "outputs": [
    {
     "name": "stdout",
     "output_type": "stream",
     "text": [
      "15 43\n"
     ]
    }
   ],
   "source": [
    "def miniMaxSum(arr):\n",
    "    arr.sort()\n",
    "    first_four = arr[:4]\n",
    "    last_four = arr[len(arr)-4:]\n",
    "    answer = \"{} {}\".format(sum(first_four), sum(last_four))\n",
    "    print(answer)\n",
    "\n",
    "\n",
    "miniMaxSum([7,2,0,6,28])"
   ]
  },
  {
   "cell_type": "markdown",
   "metadata": {},
   "source": [
    "### Count the Tallest Candles\n",
    "You are in charge of the cake for your niece's birthday and have decided the cake will have one candle for each year of her total age. When she blows out the candles, she’ll only be able to blow out the tallest ones. Your task is to find out how many candles she can successfully blow out.\n",
    "\n",
    "For example, if your niece is turning 4 years old, and the cake will have 4 candles of height 4, 4, 1, 3, she will be able to blow out 2 candles successfully, since the tallest candles are of height 4 and there are 2 such candles."
   ]
  },
  {
   "cell_type": "code",
   "execution_count": 1,
   "metadata": {},
   "outputs": [
    {
     "data": {
      "text/plain": [
       "3"
      ]
     },
     "execution_count": 1,
     "metadata": {},
     "output_type": "execute_result"
    }
   ],
   "source": [
    "def countMaxElement(arr):\n",
    "    highest_items = [arr[0]]\n",
    "    for i in range(1, len(arr)):\n",
    "        if arr[i] > highest_items[0]:\n",
    "            highest_items = [arr[i]]\n",
    "        elif arr[i] == highest_items[0]:\n",
    "            highest_items.append(arr[i])\n",
    "    \n",
    "    return len(highest_items)\n",
    "\n",
    "countMaxElement([12, 10, 12, 2, 12, 3, 8, 9])"
   ]
  },
  {
   "cell_type": "markdown",
   "metadata": {},
   "source": [
    "### Time Conversion\n",
    "Given a time in 12-hour AM/PM format, convert it to military (24-hour) time.\n",
    "\n",
    "Note: Midnight is 12:00:00AM on a 12-hour clock, and 00:00:00 on a 24-hour clock. Noon is 12:00:00PM on a 12-hour clock, and 12:00:00 on a 24-hour clock."
   ]
  },
  {
   "cell_type": "code",
   "execution_count": 43,
   "metadata": {},
   "outputs": [
    {
     "name": "stdout",
     "output_type": "stream",
     "text": [
      "value =  01:00:01\n",
      "period =  AM\n",
      "h =  01\n",
      "m =  00\n",
      "s =  01\n"
     ]
    },
    {
     "data": {
      "text/plain": [
       "'01:00:01'"
      ]
     },
     "execution_count": 43,
     "metadata": {},
     "output_type": "execute_result"
    }
   ],
   "source": [
    "def timeConversion(s):\n",
    "    period = s[-2:]\n",
    "    value = s[0:len(s)-2]\n",
    "    [h, m, s] = value.split(':')\n",
    "    print('value = ', value)\n",
    "    print('period = ', period)\n",
    "    print('h = ', h)\n",
    "    print('m = ', m)\n",
    "    print('s = ', s)\n",
    "    if(h == '12' and period == 'AM'):\n",
    "        h = '00'\n",
    "    elif(h != '12' and period == 'PM'):\n",
    "        h = str(int(h) + 12)\n",
    "        \n",
    "    return ':'.join([h, m, s])\n",
    "timeConversion('01:00:01AM')"
   ]
  },
  {
   "cell_type": "markdown",
   "metadata": {},
   "source": [
    "### Grading Students\n",
    "Sam is a professor at the university and likes to round each student's  according to these rules:\n",
    "\n",
    "- If the difference between the `grade` and the next multiple of 5 is less than 3, round `grade` up to the next multiple of 5.\n",
    "- If the value of `grade` is less than 38, no rounding occurs as the result will still be a failing grade.\n",
    "\n",
    "For example, `grade = 84`  will be rounded to `85` but `grade = 29` will not be rounded because the rounding would result in a number that is `less than 40`.\n",
    "\n",
    "Given the initial value of `grade` for each of Sam's `n` students, write code to automate the rounding process."
   ]
  },
  {
   "cell_type": "code",
   "execution_count": 17,
   "metadata": {},
   "outputs": [
    {
     "name": "stdout",
     "output_type": "stream",
     "text": [
      "75\n",
      "67\n",
      "40\n",
      "33\n"
     ]
    }
   ],
   "source": [
    "def gradeStudents(grades):\n",
    "    for grade in grades:\n",
    "        if grade < 38:\n",
    "            print(grade)\n",
    "        elif (grade + 1) % 5 == 0:\n",
    "            print(grade + 1)\n",
    "        elif (grade + 2) % 5 == 0:\n",
    "            print(grade + 2)\n",
    "        else:\n",
    "            print(grade)\n",
    "\n",
    "\n",
    "gradeStudents([73, 67, 38, 33])"
   ]
  },
  {
   "cell_type": "code",
   "execution_count": 1,
   "metadata": {},
   "outputs": [
    {
     "data": {
      "text/plain": [
       "[75, 67, 40, 33]"
      ]
     },
     "execution_count": 1,
     "metadata": {},
     "output_type": "execute_result"
    }
   ],
   "source": [
    "def gradeStudents(grades):\n",
    "    for i in range(len(grades)):\n",
    "        if grades[i] >= 38 and (grades[i] + 1) % 5 == 0:\n",
    "            grades[i] = grades[i] + 1\n",
    "        elif grades[i] >= 38 and (grades[i] + 2) % 5 == 0:\n",
    "            grades[i] = grades[i] + 2\n",
    "    return grades\n",
    "\n",
    "\n",
    "gradeStudents([73, 67, 38, 33])"
   ]
  },
  {
   "cell_type": "markdown",
   "metadata": {},
   "source": [
    "### Apples and Oranges:\n",
    "https://www.hackerrank.com/challenges/apple-and-orange/problem?h_r=internal-search&h_r=next-challenge&h_v=zen"
   ]
  },
  {
   "cell_type": "code",
   "execution_count": 36,
   "metadata": {},
   "outputs": [
    {
     "name": "stdout",
     "output_type": "stream",
     "text": [
      "1\n",
      "2\n"
     ]
    },
    {
     "data": {
      "text/plain": [
       "([7], [10, 8])"
      ]
     },
     "execution_count": 36,
     "metadata": {},
     "output_type": "execute_result"
    }
   ],
   "source": [
    "def countApplesAndOranges(s, t, a, b, apples, oranges):\n",
    "    houseRange = range(s, t+1)\n",
    "    applesOnTheHouse = []\n",
    "    orangesOnTheHouse = []\n",
    "    \n",
    "    for distance in apples:\n",
    "        v = distance + a\n",
    "        if v >= houseRange[0] and v <= houseRange[-1:][0]:\n",
    "            applesOnTheHouse.append(v)\n",
    "            \n",
    "    \n",
    "    for distance in oranges:\n",
    "        v = distance + b\n",
    "        if v >= houseRange[0] and v <= houseRange[-1:][0]:\n",
    "            orangesOnTheHouse.append(v)\n",
    "                          \n",
    "    print(len(applesOnTheHouse))\n",
    "    print(len(orangesOnTheHouse))\n",
    "    return (applesOnTheHouse, orangesOnTheHouse)\n",
    "\n",
    "countApplesAndOranges(7, 10, 4, 12, [2, 3, -4], [3, -2, -4])"
   ]
  },
  {
   "cell_type": "markdown",
   "metadata": {},
   "source": [
    "### Kangaroo\n",
    "https://www.hackerrank.com/challenges/kangaroo/problem?h_r=internal-search&h_r=next-challenge&h_v=zen&h_r=next-challenge&h_v=zen\n",
    "\n",
    "`well, I think it is much easier than we think... We just need solve equation : x1 + y * v1 = x2 + y * v2 where \"y\" is number of jumps... so if (x1 - x2) % (v2 - v1) == 0 then our kangaroos will meet each other : )` - (Lukasz Milaszewski, from Poland)\n"
   ]
  },
  {
   "cell_type": "code",
   "execution_count": 22,
   "metadata": {},
   "outputs": [
    {
     "name": "stdout",
     "output_type": "stream",
     "text": [
      "NO\n",
      "YES\n"
     ]
    }
   ],
   "source": [
    "def kangaroo(x1, v1, x2, v2):\n",
    "    if(x1 > x2 and v1 > v2):\n",
    "        return 'NO'\n",
    "    elif(x1 < x2 and v1 < v2):\n",
    "        return 'NO'\n",
    "    elif(x1 == x2 and v1 != v2):\n",
    "        return 'NO'\n",
    "    elif(x1 != x2 and v1 == v2):\n",
    "        return 'NO'\n",
    "    else:\n",
    "        if (x2 - x1) % (v1 - v2) == 0:\n",
    "            return 'YES'\n",
    "        else:\n",
    "            return 'NO'\n",
    "        \n",
    "print(kangaroo(1, 2, 2, 3))\n",
    "print(kangaroo(0, 3, 4, 2))"
   ]
  },
  {
   "cell_type": "markdown",
   "metadata": {},
   "source": [
    "### Between Two Sets\n",
    "https://www.hackerrank.com/challenges/between-two-sets/problem?h_r=next-challenge&h_v=zen"
   ]
  },
  {
   "cell_type": "code",
   "execution_count": null,
   "metadata": {},
   "outputs": [],
   "source": []
  },
  {
   "cell_type": "markdown",
   "metadata": {},
   "source": [
    "### Modified Kaprekar Numbers\n",
    "https://www.hackerrank.com/challenges/kaprekar-numbers/problem\n"
   ]
  }
 ],
 "metadata": {
  "kernelspec": {
   "display_name": "Python 3",
   "language": "python",
   "name": "python3"
  },
  "language_info": {
   "codemirror_mode": {
    "name": "ipython",
    "version": 3
   },
   "file_extension": ".py",
   "mimetype": "text/x-python",
   "name": "python",
   "nbconvert_exporter": "python",
   "pygments_lexer": "ipython3",
   "version": "3.7.4"
  }
 },
 "nbformat": 4,
 "nbformat_minor": 2
}
