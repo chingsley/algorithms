{
 "cells": [
  {
   "cell_type": "markdown",
   "metadata": {},
   "source": [
    "### Diagonal Difference\n",
    "https://www.hackerrank.com/challenges/diagonal-difference/problem?h_r=next-challenge&h_v=zen\n",
    "\n",
    "NOTE:\n",
    "- The primary diagonal is the diagonal from the top left to the bottom right.\n",
    "- The secondary diagonal is the diagonal from the to right to the bottom left.\n",
    "- The first element of the primary diagonal is the first element of the first array `arr[0][0]`\n",
    "- The first element of the secondary diagonal is the elemen at position n-1-1 (where n is the lenght of elements in the first array `arr[0][n-1-0]\n",
    "- The second elemen of the primary diagonal is the second element of the second array `arr[1][1]`\n",
    "- The first element of the secondary diagonal is the elemen at position n-1-1 (where n is the lenght of elements in the first array `arr[1][n-1-1]\n",
    "...etc"
   ]
  },
  {
   "cell_type": "code",
   "execution_count": 2,
   "metadata": {},
   "outputs": [
    {
     "name": "stdout",
     "output_type": "stream",
     "text": [
      "15\n"
     ]
    }
   ],
   "source": [
    "def diagonalDifference(n, arr):\n",
    "    primary_diagonals = []\n",
    "    secondary_diagonals = []\n",
    "    for i in range(n):\n",
    "        primary_diagonals.append(arr[i][i])\n",
    "        secondary_diagonals.append(arr[i][n-1-i])\n",
    "    return abs(sum(primary_diagonals) - sum(secondary_diagonals))\n",
    "\n",
    "\n",
    "print(diagonalDifference(3, [[11, 2, 4], [4, 5, 6], [10, 8, -12]]))"
   ]
  },
  {
   "cell_type": "code",
   "execution_count": 5,
   "metadata": {},
   "outputs": [
    {
     "name": "stdout",
     "output_type": "stream",
     "text": [
      "52\n"
     ]
    }
   ],
   "source": [
    "\n",
    "a = [6, 6, 7, -10, 9, -3, 8, 9, -1]\n",
    "b = [9, 7, -10, 6, 4, 1, 6, 1, 1]\n",
    "c = [-1, -2, 4, -6, 1, -4, -6, 3, 9]\n",
    "d = [-8, 7, 6, -1, -6, -6, 6, -7, 2]\n",
    "e = [-10, -4, 9, 1, -7, 8, -5, 3, -5]\n",
    "f = [-8, -3, -4, 2, -3, 7, -5, 1, -5]\n",
    "g = [-2, -7, -4, 8, 3, -1, 8, 2, 3]\n",
    "h = [-3, 4, 6, -7, -7, -8, -3, 9, -6]\n",
    "i = [-2, 0, 5, 4, 4, 4, -3, 3, 0]\n",
    "print(diagonalDifference(9, [a, b, c, d, e, f, g, h, i]))\n"
   ]
  },
  {
   "cell_type": "code",
   "execution_count": 8,
   "metadata": {},
   "outputs": [
    {
     "name": "stdout",
     "output_type": "stream",
     "text": [
      "15\n",
      "52\n"
     ]
    }
   ],
   "source": [
    "def diagonalDifference(n, arr):\n",
    "    primary_diagonals = []\n",
    "    secondary_diagonals = []\n",
    "    for i in range(n):\n",
    "        for j in range(len(arr[i])):\n",
    "            if(i == j):\n",
    "                primary_diagonals.append(arr[i][i])\n",
    "            if(i+j == n-1):\n",
    "                secondary_diagonals.append(arr[i][n-1-i])\n",
    "                \n",
    "    return abs(sum(primary_diagonals) - sum(secondary_diagonals))\n",
    "\n",
    "\n",
    "print(diagonalDifference(3, [[11, 2, 4], [4, 5, 6], [10, 8, -12]]))\n",
    "a = [6, 6, 7, -10, 9, -3, 8, 9, -1]\n",
    "b = [9, 7, -10, 6, 4, 1, 6, 1, 1]\n",
    "c = [-1, -2, 4, -6, 1, -4, -6, 3, 9]\n",
    "d = [-8, 7, 6, -1, -6, -6, 6, -7, 2]\n",
    "e = [-10, -4, 9, 1, -7, 8, -5, 3, -5]\n",
    "f = [-8, -3, -4, 2, -3, 7, -5, 1, -5]\n",
    "g = [-2, -7, -4, 8, 3, -1, 8, 2, 3]\n",
    "h = [-3, 4, 6, -7, -7, -8, -3, 9, -6]\n",
    "i = [-2, 0, 5, 4, 4, 4, -3, 3, 0]\n",
    "print(diagonalDifference(9, [a, b, c, d, e, f, g, h, i]))"
   ]
  }
 ],
 "metadata": {
  "kernelspec": {
   "display_name": "Python 3",
   "language": "python",
   "name": "python3"
  },
  "language_info": {
   "codemirror_mode": {
    "name": "ipython",
    "version": 3
   },
   "file_extension": ".py",
   "mimetype": "text/x-python",
   "name": "python",
   "nbconvert_exporter": "python",
   "pygments_lexer": "ipython3",
   "version": "3.7.4"
  }
 },
 "nbformat": 4,
 "nbformat_minor": 2
}
