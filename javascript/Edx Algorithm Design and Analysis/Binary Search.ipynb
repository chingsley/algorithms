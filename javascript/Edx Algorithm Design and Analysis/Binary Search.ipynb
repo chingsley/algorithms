{
 "cells": [
  {
   "cell_type": "code",
   "execution_count": 65,
   "metadata": {},
   "outputs": [
    {
     "data": {
      "text/plain": [
       "'item not found'"
      ]
     },
     "execution_count": 65,
     "metadata": {},
     "output_type": "execute_result"
    }
   ],
   "source": [
    "def binary_search(arr, item):\n",
    "    arr.sort()\n",
    "#     midItem = arr[len(arr) // 2]\n",
    "    mid = len(arr) // 2\n",
    "   \n",
    "    if (item == arr[mid]):\n",
    "        return arr[mid]\n",
    "    elif(mid == 0):\n",
    "        return 'item not found'\n",
    "    elif(item < arr[mid]):\n",
    "        return binary_search(arr[0:mid], item)\n",
    "    elif (item > arr[mid]):\n",
    "        return binary_search(arr[mid+1:], item)\n",
    "    \n",
    "\n",
    "binary_search([1, 2, 3, 4, 5, 6, 7], 0)\n",
    "# [1, 2][0: 1]"
   ]
  }
 ],
 "metadata": {
  "kernelspec": {
   "display_name": "Python 3",
   "language": "python",
   "name": "python3"
  },
  "language_info": {
   "codemirror_mode": {
    "name": "ipython",
    "version": 3
   },
   "file_extension": ".py",
   "mimetype": "text/x-python",
   "name": "python",
   "nbconvert_exporter": "python",
   "pygments_lexer": "ipython3",
   "version": "3.7.4"
  }
 },
 "nbformat": 4,
 "nbformat_minor": 2
}
