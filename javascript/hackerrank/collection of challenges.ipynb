{
 "cells": [
  {
   "cell_type": "markdown",
   "metadata": {},
   "source": [
    "### Right angle staircase"
   ]
  },
  {
   "cell_type": "code",
   "execution_count": 29,
   "metadata": {},
   "outputs": [
    {
     "name": "stdout",
     "output_type": "stream",
     "text": [
      "     #\n",
      "    ##\n",
      "   ###\n",
      "  ####\n",
      " #####\n",
      "######\n"
     ]
    }
   ],
   "source": [
    "def staircase(n):\n",
    "    for i in range(n):\n",
    "        print(' '*(n-1-i)+'#'*(i+1))\n",
    "        \n",
    "\n",
    "staircase(6)"
   ]
  },
  {
   "cell_type": "markdown",
   "metadata": {},
   "source": [
    "### Min-Max Sum\n",
    "Given five positive integers, find the minimum and maximum values that can be calculated by summing exactly four of the five integers. Then print the respective minimum and maximum values as a single line of two space-separated long integers."
   ]
  },
  {
   "cell_type": "code",
   "execution_count": 1,
   "metadata": {},
   "outputs": [
    {
     "name": "stdout",
     "output_type": "stream",
     "text": [
      "15 43\n"
     ]
    }
   ],
   "source": [
    "def miniMaxSum(arr):\n",
    "    arr.sort()\n",
    "    first_four = arr[:4]\n",
    "    last_four = arr[len(arr)-4:]\n",
    "    answer = \"{} {}\".format(sum(first_four), sum(last_four))\n",
    "    print(answer)\n",
    "\n",
    "\n",
    "miniMaxSum([7,2,0,6,28])"
   ]
  },
  {
   "cell_type": "markdown",
   "metadata": {},
   "source": [
    "### Count the Tallest Candles\n",
    "You are in charge of the cake for your niece's birthday and have decided the cake will have one candle for each year of her total age. When she blows out the candles, she’ll only be able to blow out the tallest ones. Your task is to find out how many candles she can successfully blow out.\n",
    "\n",
    "For example, if your niece is turning 4 years old, and the cake will have 4 candles of height 4, 4, 1, 3, she will be able to blow out 2 candles successfully, since the tallest candles are of height 4 and there are 2 such candles."
   ]
  },
  {
   "cell_type": "code",
   "execution_count": 1,
   "metadata": {},
   "outputs": [
    {
     "data": {
      "text/plain": [
       "3"
      ]
     },
     "execution_count": 1,
     "metadata": {},
     "output_type": "execute_result"
    }
   ],
   "source": [
    "def countMaxElement(arr):\n",
    "    highest_items = [arr[0]]\n",
    "    for i in range(1, len(arr)):\n",
    "        if arr[i] > highest_items[0]:\n",
    "            highest_items = [arr[i]]\n",
    "        elif arr[i] == highest_items[0]:\n",
    "            highest_items.append(arr[i])\n",
    "    \n",
    "    return len(highest_items)\n",
    "\n",
    "countMaxElement([12, 10, 12, 2, 12, 3, 8, 9])"
   ]
  },
  {
   "cell_type": "markdown",
   "metadata": {},
   "source": [
    "### Time Conversion\n",
    "Given a time in 12-hour AM/PM format, convert it to military (24-hour) time.\n",
    "\n",
    "Note: Midnight is 12:00:00AM on a 12-hour clock, and 00:00:00 on a 24-hour clock. Noon is 12:00:00PM on a 12-hour clock, and 12:00:00 on a 24-hour clock."
   ]
  },
  {
   "cell_type": "code",
   "execution_count": 43,
   "metadata": {},
   "outputs": [
    {
     "name": "stdout",
     "output_type": "stream",
     "text": [
      "value =  01:00:01\n",
      "period =  AM\n",
      "h =  01\n",
      "m =  00\n",
      "s =  01\n"
     ]
    },
    {
     "data": {
      "text/plain": [
       "'01:00:01'"
      ]
     },
     "execution_count": 43,
     "metadata": {},
     "output_type": "execute_result"
    }
   ],
   "source": [
    "def timeConversion(s):\n",
    "    period = s[-2:]\n",
    "    value = s[0:len(s)-2]\n",
    "    [h, m, s] = value.split(':')\n",
    "    print('value = ', value)\n",
    "    print('period = ', period)\n",
    "    print('h = ', h)\n",
    "    print('m = ', m)\n",
    "    print('s = ', s)\n",
    "    if(h == '12' and period == 'AM'):\n",
    "        h = '00'\n",
    "    elif(h != '12' and period == 'PM'):\n",
    "        h = str(int(h) + 12)\n",
    "        \n",
    "    return ':'.join([h, m, s])\n",
    "timeConversion('01:00:01AM')"
   ]
  },
  {
   "cell_type": "markdown",
   "metadata": {},
   "source": [
    "### Grading Students\n",
    "Sam is a professor at the university and likes to round each student's  according to these rules:\n",
    "\n",
    "- If the difference between the `grade` and the next multiple of 5 is less than 3, round `grade` up to the next multiple of 5.\n",
    "- If the value of `grade` is less than 38, no rounding occurs as the result will still be a failing grade.\n",
    "\n",
    "For example, `grade = 84`  will be rounded to `85` but `grade = 29` will not be rounded because the rounding would result in a number that is `less than 40`.\n",
    "\n",
    "Given the initial value of `grade` for each of Sam's `n` students, write code to automate the rounding process."
   ]
  },
  {
   "cell_type": "code",
   "execution_count": 17,
   "metadata": {},
   "outputs": [
    {
     "name": "stdout",
     "output_type": "stream",
     "text": [
      "75\n",
      "67\n",
      "40\n",
      "33\n"
     ]
    }
   ],
   "source": [
    "def gradeStudents(grades):\n",
    "    for grade in grades:\n",
    "        if grade < 38:\n",
    "            print(grade)\n",
    "        elif (grade + 1) % 5 == 0:\n",
    "            print(grade + 1)\n",
    "        elif (grade + 2) % 5 == 0:\n",
    "            print(grade + 2)\n",
    "        else:\n",
    "            print(grade)\n",
    "\n",
    "\n",
    "gradeStudents([73, 67, 38, 33])"
   ]
  },
  {
   "cell_type": "code",
   "execution_count": 1,
   "metadata": {},
   "outputs": [
    {
     "data": {
      "text/plain": [
       "[75, 67, 40, 33]"
      ]
     },
     "execution_count": 1,
     "metadata": {},
     "output_type": "execute_result"
    }
   ],
   "source": [
    "def gradeStudents(grades):\n",
    "    for i in range(len(grades)):\n",
    "        if grades[i] >= 38 and (grades[i] + 1) % 5 == 0:\n",
    "            grades[i] = grades[i] + 1\n",
    "        elif grades[i] >= 38 and (grades[i] + 2) % 5 == 0:\n",
    "            grades[i] = grades[i] + 2\n",
    "    return grades\n",
    "\n",
    "\n",
    "gradeStudents([73, 67, 38, 33])"
   ]
  },
  {
   "cell_type": "markdown",
   "metadata": {},
   "source": [
    "### Apples and Oranges:\n",
    "https://www.hackerrank.com/challenges/apple-and-orange/problem?h_r=internal-search&h_r=next-challenge&h_v=zen"
   ]
  },
  {
   "cell_type": "code",
   "execution_count": 36,
   "metadata": {},
   "outputs": [
    {
     "name": "stdout",
     "output_type": "stream",
     "text": [
      "1\n",
      "2\n"
     ]
    },
    {
     "data": {
      "text/plain": [
       "([7], [10, 8])"
      ]
     },
     "execution_count": 36,
     "metadata": {},
     "output_type": "execute_result"
    }
   ],
   "source": [
    "def countApplesAndOranges(s, t, a, b, apples, oranges):\n",
    "    houseRange = range(s, t+1)\n",
    "    applesOnTheHouse = []\n",
    "    orangesOnTheHouse = []\n",
    "    \n",
    "    for distance in apples:\n",
    "        v = distance + a\n",
    "        if v >= houseRange[0] and v <= houseRange[-1:][0]:\n",
    "            applesOnTheHouse.append(v)\n",
    "            \n",
    "    \n",
    "    for distance in oranges:\n",
    "        v = distance + b\n",
    "        if v >= houseRange[0] and v <= houseRange[-1:][0]:\n",
    "            orangesOnTheHouse.append(v)\n",
    "                          \n",
    "    print(len(applesOnTheHouse))\n",
    "    print(len(orangesOnTheHouse))\n",
    "    return (applesOnTheHouse, orangesOnTheHouse)\n",
    "\n",
    "countApplesAndOranges(7, 10, 4, 12, [2, 3, -4], [3, -2, -4])"
   ]
  },
  {
   "cell_type": "markdown",
   "metadata": {},
   "source": [
    "### Kangaroo\n",
    "https://www.hackerrank.com/challenges/kangaroo/problem?h_r=internal-search&h_r=next-challenge&h_v=zen&h_r=next-challenge&h_v=zen\n",
    "\n",
    "`well, I think it is much easier than we think... We just need solve equation : x1 + y * v1 = x2 + y * v2 where \"y\" is number of jumps... so if (x1 - x2) % (v2 - v1) == 0 then our kangaroos will meet each other : )` - (Lukasz Milaszewski, from Poland)\n"
   ]
  },
  {
   "cell_type": "code",
   "execution_count": 22,
   "metadata": {},
   "outputs": [
    {
     "name": "stdout",
     "output_type": "stream",
     "text": [
      "NO\n",
      "YES\n"
     ]
    }
   ],
   "source": [
    "def kangaroo(x1, v1, x2, v2):\n",
    "    if(x1 > x2 and v1 > v2):\n",
    "        return 'NO'\n",
    "    elif(x1 < x2 and v1 < v2):\n",
    "        return 'NO'\n",
    "    elif(x1 == x2 and v1 != v2):\n",
    "        return 'NO'\n",
    "    elif(x1 != x2 and v1 == v2):\n",
    "        return 'NO'\n",
    "    else:\n",
    "        if (x2 - x1) % (v1 - v2) == 0:\n",
    "            return 'YES'\n",
    "        else:\n",
    "            return 'NO'\n",
    "        \n",
    "print(kangaroo(1, 2, 2, 3))\n",
    "print(kangaroo(0, 3, 4, 2))"
   ]
  },
  {
   "cell_type": "markdown",
   "metadata": {},
   "source": [
    "### Between Two Sets\n",
    "https://www.hackerrank.com/challenges/between-two-sets/problem?h_r=next-challenge&h_v=zen"
   ]
  },
  {
   "cell_type": "code",
   "execution_count": 53,
   "metadata": {},
   "outputs": [
    {
     "name": "stdout",
     "output_type": "stream",
     "text": [
      "[2]\n"
     ]
    },
    {
     "data": {
      "text/plain": [
       "1"
      ]
     },
     "execution_count": 53,
     "metadata": {},
     "output_type": "execute_result"
    }
   ],
   "source": [
    "def getLeastNumInArr(b):\n",
    "    b.sort()\n",
    "    return b[0]\n",
    "\n",
    "def getComDivisorsOfB(leastOfB, b):\n",
    "    factorsOfb = [i for i in range(1, leastOfB + 1) if leastOfB % i == 0]\n",
    "    factors = []\n",
    "    for num in factorsOfb:\n",
    "        correct = True\n",
    "        for n in b:\n",
    "            if n % num != 0:\n",
    "                correct = False\n",
    "        if correct:\n",
    "            factors.append(num) \n",
    "            \n",
    "    return factors\n",
    "\n",
    "\n",
    "def getMultipliers(a, arr):\n",
    "    \"\"\"\n",
    "    this filters the factors of arr b that are also\n",
    "    common multiplier for all numbers in arr a\n",
    "    \"\"\"\n",
    "    divisors = []\n",
    "    for n in arr:\n",
    "        correct = True\n",
    "        for num in a:\n",
    "            if n % num != 0:\n",
    "                correct = False\n",
    "        if correct:\n",
    "            divisors.append(n)\n",
    "                \n",
    "    return divisors\n",
    "    \n",
    "\n",
    "def getTotalX(a, b):\n",
    "    leastOfB = getLeastNumInArr([num for num in b])\n",
    "    commonDivisorsOfArrB = getComDivisorsOfB(leastOfB, b)\n",
    "    midItems = getMultipliers(a, commonDivisorsOfArrB)\n",
    "    print(midItems)\n",
    "    return len(midItems)\n",
    "\n",
    "# getTotalX([2, 6], [24, 36])\n",
    "# getTotalX([1], [72, 48])  # expected answer 8\n",
    "getTotalX([2], [20, 30, 12]) # expected answer 1\n",
    "\n",
    "# [72/n for n in [1, 2, 3, 4, 6, 8, 12, 16, 24, 48]]"
   ]
  },
  {
   "cell_type": "markdown",
   "metadata": {},
   "source": [
    "### Modified Kaprekar Numbers\n",
    "https://www.hackerrank.com/challenges/kaprekar-numbers/problem\n"
   ]
  },
  {
   "cell_type": "code",
   "execution_count": 103,
   "metadata": {},
   "outputs": [
    {
     "name": "stdout",
     "output_type": "stream",
     "text": [
      "INVALID RANGE\n"
     ]
    }
   ],
   "source": [
    "def isKaprekar(num):\n",
    "    if(num == 1):\n",
    "        return True\n",
    "    elif(num == 2 or num == 3):\n",
    "        return False\n",
    "    else:\n",
    "        numlen = len(str(num))\n",
    "        sqrstr = str(num * num)\n",
    "        sqrlen = len(str(num * num))\n",
    "        diff = sqrlen-numlen\n",
    "        firstpart, secondpart = sqrstr[:diff], sqrstr[diff:]\n",
    "        return int(firstpart) + int(secondpart) == num\n",
    "\n",
    "def kaprekarNumbers(p, q):\n",
    "    result = []\n",
    "    for num in range(p, q+1):\n",
    "        if(isKaprekar(num)):\n",
    "            result.append(str(num))\n",
    "    \n",
    "    if(len(result) > 0):\n",
    "        print(' '.join(result))\n",
    "    else:\n",
    "        print('INVALID RANGE')\n",
    "\n",
    "\n",
    "kaprekarNumbers(55, 50)\n"
   ]
  },
  {
   "cell_type": "markdown",
   "metadata": {},
   "source": [
    "### Breaking the Records\n",
    "\n",
    "https://www.hackerrank.com/challenges/breaking-best-and-worst-records/problem?h_r=next-challenge&h_v=zen&h_r=next-challenge&h_v=zen"
   ]
  },
  {
   "cell_type": "code",
   "execution_count": 1,
   "metadata": {},
   "outputs": [
    {
     "data": {
      "text/plain": [
       "[2, 4]"
      ]
     },
     "execution_count": 1,
     "metadata": {},
     "output_type": "execute_result"
    }
   ],
   "source": [
    "def breakingRecords(scores):\n",
    "    highest_records = []\n",
    "    lowest_records = []\n",
    "    least_score = scores[0]\n",
    "    highest_score = scores[0]\n",
    "    for score in scores[1:]:\n",
    "        # print(score)\n",
    "        if score > highest_score:\n",
    "            highest_records.append(score)\n",
    "            highest_score = score\n",
    "        elif score < least_score:\n",
    "            lowest_records.append(score)\n",
    "            least_score = score\n",
    "    \n",
    "    return [len(highest_records), len(lowest_records)]\n",
    "    # return highest_records, lowest_records\n",
    "\n",
    "scores = [3, 4, 21, 36, 10, 28, 35, 5, 24, 42]\n",
    "scores2 = [10, 5, 20, 20, 4, 5, 2, 25, 1]\n",
    "breakingRecords(scores2)"
   ]
  },
  {
   "cell_type": "markdown",
   "metadata": {},
   "source": [
    "### Birthday Chocolate\n",
    "https://www.hackerrank.com/challenges/the-birthday-bar/problem?h_r=next-challenge&h_v=zen&h_r=next-challenge&h_v=zen&h_r=next-challenge&h_v=zen"
   ]
  },
  {
   "cell_type": "code",
   "execution_count": 40,
   "metadata": {},
   "outputs": [
    {
     "name": "stdout",
     "output_type": "stream",
     "text": [
      "[1, 2]\n",
      "[2, 1]\n",
      "[1, 3]\n",
      "[3, 2]\n",
      "2\n",
      "[1, 1]\n",
      "[1, 1]\n",
      "[1, 1]\n",
      "[1, 1]\n",
      "[1, 1]\n",
      "0\n",
      "[4]\n",
      "1\n"
     ]
    }
   ],
   "source": [
    "def birthday(s, d, m):\n",
    "    temp = m\n",
    "    count = 0\n",
    "    for i, num in enumerate(s):\n",
    "        arr = s[i:temp]\n",
    "        \n",
    "        if len(arr) < m:\n",
    "            break\n",
    "            \n",
    "        print(arr)\n",
    "        if(sum(arr) == d):\n",
    "            count += 1\n",
    "        \n",
    "        temp += 1\n",
    "    return count\n",
    "\n",
    "print(birthday([1, 2, 1, 3, 2], 3, 2))\n",
    "print(birthday([1, 1, 1, 1, 1, 1], 3, 2))\n",
    "print(birthday([4], 4, 1))"
   ]
  },
  {
   "cell_type": "markdown",
   "metadata": {},
   "source": [
    "### Divisible Sum Pairs\n",
    "https://www.hackerrank.com/challenges/divisible-sum-pairs/problem?h_r=next-challenge&h_v=zen&h_r=next-challenge&h_v=zen&h_r=next-challenge&h_v=zen&h_r=next-challenge&h_v=zen"
   ]
  },
  {
   "cell_type": "code",
   "execution_count": 46,
   "metadata": {},
   "outputs": [
    {
     "data": {
      "text/plain": [
       "5"
      ]
     },
     "execution_count": 46,
     "metadata": {},
     "output_type": "execute_result"
    }
   ],
   "source": [
    "def divisibleSumPairs(n, k, ar):\n",
    "    count = 0\n",
    "    for i, num1 in enumerate(ar):\n",
    "        for num2 in ar[i+1:]:\n",
    "            if((num1 + num2) % k == 0):\n",
    "                count += 1\n",
    "                \n",
    "                \n",
    "    return count\n",
    "\n",
    "\n",
    "divisibleSumPairs(6, 3, [1, 3, 2, 6, 1, 2])"
   ]
  },
  {
   "cell_type": "code",
   "execution_count": 61,
   "metadata": {},
   "outputs": [
    {
     "name": "stdout",
     "output_type": "stream",
     "text": [
      "[[3, 3], [9], [3], [], [3], []]\n",
      "[2, 1, 1, 1]\n"
     ]
    },
    {
     "data": {
      "text/plain": [
       "5"
      ]
     },
     "execution_count": 61,
     "metadata": {},
     "output_type": "execute_result"
    }
   ],
   "source": [
    "def divisibleSumPairs(n, k, ar):\n",
    "    temp_result = [[j+ar[i] for j in ar[i+1:] if (j+ar[i])%k==0] for i in range(len(ar))]\n",
    "    print(temp_result)\n",
    "    result = list(filter(lambda x: x, temp_result))\n",
    "    res2 = [len(lst) for lst in result]\n",
    "    print(res2)\n",
    "    return sum(res2)\n",
    "\n",
    "\n",
    "divisibleSumPairs(6, 3, [1, 3, 2, 6, 1, 2])"
   ]
  },
  {
   "cell_type": "code",
   "execution_count": 43,
   "metadata": {},
   "outputs": [
    {
     "name": "stdout",
     "output_type": "stream",
     "text": [
      "[[1, 2, 3], [1, 2], [1, 2, 3, 4]]\n"
     ]
    }
   ],
   "source": [
    "lst = [[1, 2, 3], [1, 2], [], [], [], [1, 2, 3, 4], [], []]\n",
    "print(list(filter(lambda x: x, lst)))"
   ]
  },
  {
   "cell_type": "markdown",
   "metadata": {},
   "source": [
    "### Migratory Birds\n",
    "https://www.hackerrank.com/challenges/migratory-birds/problem?h_r=next-challenge&h_v=zen&h_r=next-challenge&h_v=zen&h_r=next-challenge&h_v=zen&h_r=next-challenge&h_v=zen&h_r=next-challenge&h_v=zen"
   ]
  },
  {
   "cell_type": "code",
   "execution_count": 47,
   "metadata": {},
   "outputs": [
    {
     "name": "stdout",
     "output_type": "stream",
     "text": [
      "[(1, 2), (2, 2), (3, 3), (4, 3), (5, 1)]\n",
      "[(3, 3), (4, 3), (1, 2), (2, 2), (5, 1)]\n",
      "3\n"
     ]
    },
    {
     "data": {
      "text/plain": [
       "3"
      ]
     },
     "execution_count": 47,
     "metadata": {},
     "output_type": "execute_result"
    }
   ],
   "source": [
    "def migratoryBirds(arr):\n",
    "    dict_count = {}\n",
    "    for k in arr:\n",
    "        if k in dict_count:\n",
    "            dict_count[k] = dict_count[k] + 1\n",
    "        else:\n",
    "            dict_count[k] = 1\n",
    "            \n",
    "    first_sorted = sorted(list(dict_count.items()), key=lambda element: element[0])\n",
    "    second_sorted = sorted(first_sorted, key=lambda element: element[1], reverse=True)\n",
    "    print(first_sorted)\n",
    "    print(second_sorted)\n",
    "    print(second_sorted[0][0])\n",
    "    return second_sorted[0][0]\n",
    "\n",
    "migratoryBirds([1, 2, 3, 4, 5, 4, 3, 2, 1, 3, 4])\n"
   ]
  },
  {
   "cell_type": "code",
   "execution_count": 29,
   "metadata": {},
   "outputs": [
    {
     "data": {
      "text/plain": [
       "[('dave', 'B', 10), ('jane', 'B', 12), ('john', 'A', 15)]"
      ]
     },
     "execution_count": 29,
     "metadata": {},
     "output_type": "execute_result"
    }
   ],
   "source": [
    "from operator import itemgetter, attrgetter\n",
    "\n",
    "def multisort(xs, specs):\n",
    "    for key, reverse in reversed(specs):\n",
    "        xs.sort(key=attrgetter(key), reverse=reverse)\n",
    "    return xs\n",
    "\n",
    "class Student:\n",
    "    def __init__(self, name, grade, age):\n",
    "        self.name = name\n",
    "        self.grade = grade\n",
    "        self.age = age\n",
    "    def __repr__(self):\n",
    "        return repr((self.name, self.grade, self.age))\n",
    "    \n",
    "student_objects = [\n",
    "    Student('john', 'A', 15),\n",
    "    Student('jane', 'B', 12),\n",
    "    Student('dave', 'B', 10),\n",
    "]\n",
    "    \n",
    "multisort(list(student_objects), (('grade', True), ('age', False)))"
   ]
  },
  {
   "cell_type": "code",
   "execution_count": 35,
   "metadata": {},
   "outputs": [
    {
     "name": "stdout",
     "output_type": "stream",
     "text": [
      "[('dave', 'B', 10), ('jane', 'B', 12), ('john', 'A', 15)]\n"
     ]
    }
   ],
   "source": [
    "s = sorted(student_objects, key=attrgetter('age'))     # sort on secondary key\n",
    "print(s)\n",
    "# sorted(s, key=attrgetter('grade'), reverse=True)       # now sort on primary key, descending [('dave', 'B', 10), ('jane', 'B', 12), ('john', 'A', 15)]"
   ]
  },
  {
   "cell_type": "markdown",
   "metadata": {},
   "source": [
    "### Day of the Programmer\n",
    "https://www.hackerrank.com/challenges/day-of-the-programmer/problem"
   ]
  },
  {
   "cell_type": "code",
   "execution_count": 22,
   "metadata": {},
   "outputs": [
    {
     "name": "stdout",
     "output_type": "stream",
     "text": [
      "230\n",
      "26\n"
     ]
    },
    {
     "data": {
      "text/plain": [
       "'26.09.1918'"
      ]
     },
     "execution_count": 22,
     "metadata": {},
     "output_type": "execute_result"
    }
   ],
   "source": [
    "def getDaysInFebruary(year):\n",
    "    if (year < 1918 and year % 4 == 0):\n",
    "        return 29\n",
    "    elif(year > 1918 and ((year % 400 == 0) or (year % 4 == 0 and year % 100 != 0))):\n",
    "        return 29\n",
    "    elif(year == 1918):\n",
    "        return 15\n",
    "    else:\n",
    "        return 28\n",
    "\n",
    "def dayOfProgrammer(year):\n",
    "    countToAugust31 = 31+getDaysInFebruary(year)+31+30+31+30+31+31\n",
    "    print(countToAugust31)\n",
    "    daysInSept = 256 - countToAugust31\n",
    "    print(daysInSept)\n",
    "    return str(daysInSept)+'.09.'+str(year)\n",
    "    \n",
    "dayOfProgrammer(1918)"
   ]
  },
  {
   "cell_type": "markdown",
   "metadata": {},
   "source": [
    "### Bon Appétit\n",
    "https://www.hackerrank.com/challenges/bon-appetit/problem?h_r=next-challenge&h_v=zen"
   ]
  },
  {
   "cell_type": "code",
   "execution_count": 1,
   "metadata": {},
   "outputs": [
    {
     "data": {
      "text/plain": [
       "3.0"
      ]
     },
     "execution_count": 1,
     "metadata": {},
     "output_type": "execute_result"
    }
   ],
   "source": [
    "def bonAppetit(bill, k, b):\n",
    "    bill_actual = (sum(bill) - bill[k]) / 2\n",
    "    if(b - bill_actual == 0):\n",
    "        return 'Bon Appetit'\n",
    "    else:\n",
    "        return b - bill_actual\n",
    "\n",
    "bonAppetit([3, 10, 2, 9], 1, 7)\n",
    "bonAppetit([2, 4, 6], 2, 6)"
   ]
  },
  {
   "cell_type": "markdown",
   "metadata": {},
   "source": [
    "### Sock Merchant\n",
    "https://www.hackerrank.com/challenges/sock-merchant/problem?h_r=next-challenge&h_v=zen&h_r=next-challenge&h_v=zen\n"
   ]
  },
  {
   "cell_type": "code",
   "execution_count": 5,
   "metadata": {},
   "outputs": [
    {
     "data": {
      "text/plain": [
       "3"
      ]
     },
     "execution_count": 5,
     "metadata": {},
     "output_type": "execute_result"
    }
   ],
   "source": [
    "def sockMerchant(n, arr):\n",
    "    dict_count = {}\n",
    "    count_matching_pairs = 0\n",
    "    for num in arr:\n",
    "        if num in dict_count:\n",
    "            count_matching_pairs += 1\n",
    "            del dict_count[num]\n",
    "        else:\n",
    "            dict_count[num] = 1\n",
    "    return count_matching_pairs\n",
    "\n",
    "\n",
    "sockMerchant(9, [10, 20, 20, 10, 10, 30, 50, 10, 20])"
   ]
  },
  {
   "cell_type": "markdown",
   "metadata": {},
   "source": [
    "### Drawing Book\n",
    "https://www.hackerrank.com/challenges/drawing-book/problem?h_r=next-challenge&h_v=zen&h_r=next-challenge&h_v=zen&h_r=next-challenge&h_v=zen"
   ]
  },
  {
   "cell_type": "code",
<<<<<<< Updated upstream
   "execution_count": 1,
   "metadata": {},
   "outputs": [
    {
     "name": "stdout",
     "output_type": "stream",
     "text": [
      "[0, 1, 2, 3, 4, 5, 6, 7, 8, 9, 10, 0]\n",
      "count from front =  0\n",
      "----------------\n",
      "count from back =  5\n"
     ]
    },
    {
     "data": {
      "text/plain": [
       "0"
      ]
     },
     "execution_count": 1,
     "metadata": {},
     "output_type": "execute_result"
    }
   ],
   "source": [
    "def count_frm_front(arr, page):\n",
    "    count = 0\n",
    "    i = 1\n",
    "    while arr[i] != page and arr[i-1] != page:\n",
    "        count += 1\n",
    "        i += 2\n",
    "    print('count from front = ', count)\n",
    "    return count\n",
    "        \n",
    "def count_frm_back(arr, page):\n",
    "    count = 0\n",
    "    i = len(arr) - 1\n",
    "    while arr[i] != page and arr[i-1] != page:\n",
    "        count += 1\n",
    "        i -= 2\n",
    "    print('count from back = ', count)\n",
    "    return count\n",
    "        \n",
    "        \n",
    "def pageCount(n, p):\n",
    "    arr = list(range(n+1))\n",
    "    # arr must have even len of pages\n",
    "    if len(arr) % 2 != 0:\n",
    "        arr.append(0)\n",
    "    print(arr)\n",
    "    c1 = count_frm_front(arr, p)\n",
    "    print('----------------')\n",
    "    c2 = count_frm_back(arr, p)\n",
    "    if(c1 < c2):\n",
    "        return c1\n",
    "    else:\n",
    "        return c2\n",
    "    \n",
    "pageCount(10, 1)"
   ]
  },
  {
   "cell_type": "markdown",
   "metadata": {},
   "source": [
    "### Counting Valleys:\n",
    "https://www.hackerrank.com/challenges/counting-valleys/problem?h_r=next-challenge&h_v=zen"
   ]
  },
  {
   "cell_type": "code",
   "execution_count": 20,
   "metadata": {},
   "outputs": [
    {
     "data": {
      "text/plain": [
       "1"
      ]
     },
     "execution_count": 20,
     "metadata": {},
     "output_type": "execute_result"
    }
   ],
   "source": [
    "def countingValleys(steps, path):\n",
    "    arr_stack = []\n",
    "    count_valley = 0\n",
    "    for ch in path:\n",
    "        if(ch == 'D' and len(arr_stack) == 0):\n",
    "            count_valley += 1\n",
    "            arr_stack.append(ch)\n",
    "        elif(ch == 'D' and len(arr_stack) != 0 and arr_stack[len(arr_stack)-1] == 'U'):\n",
    "            arr_stack.pop()\n",
    "        elif(ch == 'U' and len(arr_stack) != 0 and arr_stack[len(arr_stack)-1] == 'D'):\n",
    "            arr_stack.pop()\n",
    "        else:\n",
    "            arr_stack.append(ch)\n",
    "    return count_valley\n",
    "        \n",
    "            \n",
    "    \n",
    "    \n",
    "countingValleys(8, 'UDDDUDUU')"
   ]
  },
  {
   "cell_type": "markdown",
   "metadata": {},
   "source": [
    "### Electronic Shop:\n",
    "https://www.hackerrank.com/challenges/electronics-shop/problem?h_r=next-challenge&h_v=zen&h_r=next-challenge&h_v=zen"
   ]
  },
  {
   "cell_type": "code",
   "execution_count": 1,
   "metadata": {},
   "outputs": [
    {
     "data": {
      "text/plain": [
       "-1"
      ]
     },
     "execution_count": 1,
     "metadata": {},
     "output_type": "execute_result"
    }
   ],
   "source": [
    "def getMoneySpent(keyboards, drives, b):\n",
    "    x = -1\n",
    "    for price_1 in keyboards:\n",
    "        for price_2 in drives:\n",
    "            val = price_1 + price_2\n",
    "            if ( val > x and val <= b):\n",
    "                x = val\n",
    "    return x\n",
    "\n",
    "getMoneySpent([40, 50, 60], [5, 8, 12], 60)\n",
    "getMoneySpent([3, 1], [5, 2, 8], 10)\n",
    "getMoneySpent([4], [5], 5)"
   ]
  },
  {
   "cell_type": "markdown",
   "metadata": {},
   "source": [
    "### The Hurdle Race\n",
    "https://www.hackerrank.com/challenges/the-hurdle-race/problem?utm_campaign=challenge-recommendation&utm_medium=email&utm_source=24-hour-campaign"
   ]
  },
  {
   "cell_type": "code",
   "execution_count": 8,
   "metadata": {},
   "outputs": [
    {
     "data": {
      "text/plain": [
       "2"
      ]
     },
     "execution_count": 8,
     "metadata": {},
     "output_type": "execute_result"
    }
   ],
   "source": [
    "def hurdleRace(k, height):\n",
    "    height.sort()\n",
    "    highest_hurdle = height[len(height) - 1]\n",
    "    if(highest_hurdle - k > 0):\n",
    "        return highest_hurdle - k\n",
    "    else:\n",
    "        return 0\n",
    "\n",
    "\n",
    "hurdleRace(4, [1, 6, 3, 5, 2])"
   ]
  },
  {
   "cell_type": "markdown",
   "metadata": {},
   "source": [
    "### Cats and a Mouse:\n",
    "https://www.hackerrank.com/challenges/cats-and-a-mouse/problem?h_r=next-challenge&h_v=zen&h_r=next-challenge&h_v=zen&h_r=next-challenge&h_v=zen"
   ]
  },
  {
   "cell_type": "code",
   "execution_count": null,
   "metadata": {},
   "outputs": [],
   "source": [
    "def catAndMouse(x, y, z):\n",
    "    if(abs(z-x) < abs(z-y)):\n",
    "        return 'Cat A'\n",
    "    elif(abs(z-y) < abs(z-x)):\n",
    "        return 'Cat B'\n",
    "    else:\n",
    "        return 'Mouse C'"
=======
   "execution_count": 31,
   "metadata": {},
   "outputs": [
    {
     "name": "stdout",
     "output_type": "stream",
     "text": [
      "[0, 1, 2, 3, 4, 5, 6, 7, 8, 9, 10, 0]\n",
      "count from front =  0\n",
      "----------------\n",
      "count from back =  5\n"
     ]
    },
    {
     "data": {
      "text/plain": [
       "0"
      ]
     },
     "execution_count": 31,
     "metadata": {},
     "output_type": "execute_result"
    }
   ],
   "source": [
    "def count_frm_front(arr, page):\n",
    "    count = 0\n",
    "    i = 1\n",
    "    while arr[i] != page and arr[i-1] != page:\n",
    "        count += 1\n",
    "        i += 2\n",
    "    print('count from front = ', count)\n",
    "    return count\n",
    "        \n",
    "def count_frm_back(arr, page):\n",
    "    count = 0\n",
    "    i = len(arr) - 1\n",
    "    while arr[i] != page and arr[i-1] != page:\n",
    "        count += 1\n",
    "        i -= 2\n",
    "    print('count from back = ', count)\n",
    "    return count\n",
    "        \n",
    "        \n",
    "def pageCount(n, p):\n",
    "    arr = list(range(n+1))\n",
    "    # arr must have even len of pages\n",
    "    if len(arr) % 2 != 0:\n",
    "        arr.append(0)\n",
    "    print(arr)\n",
    "    c1 = count_frm_front(arr, p)\n",
    "    print('----------------')\n",
    "    c2 = count_frm_back(arr, p)\n",
    "    if(c1 < c2):\n",
    "        return c1\n",
    "    else:\n",
    "        return c2\n",
    "    \n",
    "pageCount(10, 1)"
>>>>>>> Stashed changes
   ]
  }
 ],
 "metadata": {
  "kernelspec": {
   "display_name": "Python 3",
   "language": "python",
   "name": "python3"
  },
  "language_info": {
   "codemirror_mode": {
    "name": "ipython",
    "version": 3
   },
   "file_extension": ".py",
   "mimetype": "text/x-python",
   "name": "python",
   "nbconvert_exporter": "python",
   "pygments_lexer": "ipython3",
   "version": "3.7.4"
  }
 },
 "nbformat": 4,
 "nbformat_minor": 2
}
