{
 "cells": [
  {
   "cell_type": "markdown",
   "metadata": {},
   "source": [
    "### Plus or Minus\n",
    "\n",
    "Given an array of integers, calculate the ratios of its elements that are positive, negative, and zero. Print the decimal value of each fraction on a new line with 6 places after the decimal.\n",
    "\n",
    "Note: This challenge introduces precision problems. The test cases are scaled to six decimal places, though answers with absolute error of up to 10^-4 are acceptable."
   ]
  },
  {
   "cell_type": "code",
   "execution_count": 59,
   "metadata": {},
   "outputs": [
    {
     "name": "stdout",
     "output_type": "stream",
     "text": [
      "0.5\n",
      "0.500000\n",
      "0.3333333333333333\n",
      "0.333333\n",
      "0.16666666666666666\n",
      "0.166667\n"
     ]
    }
   ],
   "source": [
    "def plusMinus(arr):\n",
    "    positives = 0\n",
    "    negatives = 0\n",
    "    zeros = 0\n",
    "    for value in arr:\n",
    "        if (value > 0):\n",
    "            positives += 1\n",
    "        elif (value < 0):\n",
    "            negatives += 1\n",
    "        else:\n",
    "            zeros += 1\n",
    "    \n",
    "    print(positives/len(arr))\n",
    "    print('{0:.6f}'.format(positives/len(arr)))\n",
    "    print(negatives/len(arr))\n",
    "    print('{0:.6f}'.format(negatives/len(arr)))\n",
    "    print(zeros/len(arr))\n",
    "    print('{0:.6f}'.format(zeros/len(arr)))\n",
    "\n",
    "    \n",
    "plusMinus([-4, 3, -9, 0, 4, 1 ])\n"
   ]
  },
  {
   "cell_type": "code",
   "execution_count": null,
   "metadata": {},
   "outputs": [],
   "source": []
  }
 ],
 "metadata": {
  "kernelspec": {
   "display_name": "Python 3",
   "language": "python",
   "name": "python3"
  },
  "language_info": {
   "codemirror_mode": {
    "name": "ipython",
    "version": 3
   },
   "file_extension": ".py",
   "mimetype": "text/x-python",
   "name": "python",
   "nbconvert_exporter": "python",
   "pygments_lexer": "ipython3",
   "version": "3.7.4"
  }
 },
 "nbformat": 4,
 "nbformat_minor": 2
}
